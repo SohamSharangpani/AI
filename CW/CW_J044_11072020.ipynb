{
  "nbformat": 4,
  "nbformat_minor": 0,
  "metadata": {
    "colab": {
      "name": "CW_J044_11072020.ipynb",
      "provenance": [],
      "authorship_tag": "ABX9TyMnTlYJKPXjgYQw8PXGVadk",
      "include_colab_link": true
    },
    "kernelspec": {
      "name": "python3",
      "display_name": "Python 3"
    },
    "accelerator": "GPU"
  },
  "cells": [
    {
      "cell_type": "markdown",
      "metadata": {
        "id": "view-in-github",
        "colab_type": "text"
      },
      "source": [
        "<a href=\"https://colab.research.google.com/github/SohamSharangpani/AI/blob/master/CW/CW_J044_11072020.ipynb\" target=\"_parent\"><img src=\"https://colab.research.google.com/assets/colab-badge.svg\" alt=\"Open In Colab\"/></a>"
      ]
    },
    {
      "cell_type": "code",
      "metadata": {
        "id": "fqpOiOxQvEIu",
        "colab_type": "code",
        "colab": {}
      },
      "source": [
        " #google collab handels indendation automatically (most of the times)\n",
        " a=5\n",
        "b=6\n",
        "c=4"
      ],
      "execution_count": 1,
      "outputs": []
    },
    {
      "cell_type": "code",
      "metadata": {
        "id": "38PtVWmS1pUx",
        "colab_type": "code",
        "colab": {
          "base_uri": "https://localhost:8080/",
          "height": 35
        },
        "outputId": "c431cd0d-0287-4c10-a040-6657dadcd13b"
      },
      "source": [
        "a"
      ],
      "execution_count": 2,
      "outputs": [
        {
          "output_type": "execute_result",
          "data": {
            "text/plain": [
              "5"
            ]
          },
          "metadata": {
            "tags": []
          },
          "execution_count": 2
        }
      ]
    },
    {
      "cell_type": "code",
      "metadata": {
        "id": "PoWyalq41pXg",
        "colab_type": "code",
        "colab": {
          "base_uri": "https://localhost:8080/",
          "height": 35
        },
        "outputId": "d7da58a6-e59b-43ba-fd39-fb44e93db123"
      },
      "source": [
        "b"
      ],
      "execution_count": 3,
      "outputs": [
        {
          "output_type": "execute_result",
          "data": {
            "text/plain": [
              "6"
            ]
          },
          "metadata": {
            "tags": []
          },
          "execution_count": 3
        }
      ]
    },
    {
      "cell_type": "code",
      "metadata": {
        "id": "mT4PvC3U1paR",
        "colab_type": "code",
        "colab": {
          "base_uri": "https://localhost:8080/",
          "height": 132
        },
        "outputId": "bbde7dbe-b808-4cf0-b615-9ac5a930c9d3"
      },
      "source": [
        "#cant handle indentation errors in if, for and when declaring function statements\n",
        "if b<0:\n",
        "print('a')"
      ],
      "execution_count": 4,
      "outputs": [
        {
          "output_type": "error",
          "ename": "IndentationError",
          "evalue": "ignored",
          "traceback": [
            "\u001b[0;36m  File \u001b[0;32m\"<ipython-input-4-f3438eca210a>\"\u001b[0;36m, line \u001b[0;32m3\u001b[0m\n\u001b[0;31m    print('a')\u001b[0m\n\u001b[0m        ^\u001b[0m\n\u001b[0;31mIndentationError\u001b[0m\u001b[0;31m:\u001b[0m expected an indented block\n"
          ]
        }
      ]
    },
    {
      "cell_type": "code",
      "metadata": {
        "id": "JYGglxvh1pdP",
        "colab_type": "code",
        "colab": {
          "base_uri": "https://localhost:8080/",
          "height": 35
        },
        "outputId": "d5e7f7c9-132c-409b-cc82-eb711f994a58"
      },
      "source": [
        "if b>0:\n",
        "  print('a')"
      ],
      "execution_count": 5,
      "outputs": [
        {
          "output_type": "stream",
          "text": [
            "a\n"
          ],
          "name": "stdout"
        }
      ]
    },
    {
      "cell_type": "code",
      "metadata": {
        "id": "PPpnRZkw1pgJ",
        "colab_type": "code",
        "colab": {}
      },
      "source": [
        "# function has 2 parts\n",
        "#defining and calling\n",
        "def printer():\n",
        "  print(a+b)\n",
        "def sum(a,b):\n",
        "  return a+b"
      ],
      "execution_count": 6,
      "outputs": []
    },
    {
      "cell_type": "code",
      "metadata": {
        "id": "vuUx8rkV1piu",
        "colab_type": "code",
        "colab": {}
      },
      "source": [
        "printer()"
      ],
      "execution_count": null,
      "outputs": []
    },
    {
      "cell_type": "code",
      "metadata": {
        "id": "weJN07Cn1plj",
        "colab_type": "code",
        "colab": {}
      },
      "source": [
        "sum(a,b)"
      ],
      "execution_count": null,
      "outputs": []
    },
    {
      "cell_type": "code",
      "metadata": {
        "id": "aJvGlwD41poN",
        "colab_type": "code",
        "colab": {
          "base_uri": "https://localhost:8080/",
          "height": 35
        },
        "outputId": "f1941adc-5997-4fcf-b0ee-b038577bdae9"
      },
      "source": [
        "sum(a,c)"
      ],
      "execution_count": 7,
      "outputs": [
        {
          "output_type": "execute_result",
          "data": {
            "text/plain": [
              "9"
            ]
          },
          "metadata": {
            "tags": []
          },
          "execution_count": 7
        }
      ]
    },
    {
      "cell_type": "code",
      "metadata": {
        "id": "Zl296N9f6q_8",
        "colab_type": "code",
        "colab": {}
      },
      "source": [
        "#changing runtime, restarts environment \n",
        "#global variables are taken when a function isnt having any input variables, arguments\n",
        "# to delete a variable use del command\n",
        "del b"
      ],
      "execution_count": 9,
      "outputs": []
    },
    {
      "cell_type": "code",
      "metadata": {
        "id": "_c__OaA66rJS",
        "colab_type": "code",
        "colab": {
          "base_uri": "https://localhost:8080/",
          "height": 168
        },
        "outputId": "7e008a1b-9d0c-4edb-9443-cd3691855b6b"
      },
      "source": [
        "b"
      ],
      "execution_count": 10,
      "outputs": [
        {
          "output_type": "error",
          "ename": "NameError",
          "evalue": "ignored",
          "traceback": [
            "\u001b[0;31m---------------------------------------------------------------------------\u001b[0m",
            "\u001b[0;31mNameError\u001b[0m                                 Traceback (most recent call last)",
            "\u001b[0;32m<ipython-input-10-89e6c98d9288>\u001b[0m in \u001b[0;36m<module>\u001b[0;34m()\u001b[0m\n\u001b[0;32m----> 1\u001b[0;31m \u001b[0mb\u001b[0m\u001b[0;34m\u001b[0m\u001b[0;34m\u001b[0m\u001b[0m\n\u001b[0m",
            "\u001b[0;31mNameError\u001b[0m: name 'b' is not defined"
          ]
        }
      ]
    },
    {
      "cell_type": "code",
      "metadata": {
        "id": "2G-RI6l06rO0",
        "colab_type": "code",
        "colab": {}
      },
      "source": [
        "def printer2 ():\n",
        "  a=5\n",
        "  b=6\n",
        "  print (a+b)"
      ],
      "execution_count": 11,
      "outputs": []
    },
    {
      "cell_type": "code",
      "metadata": {
        "id": "ynIsZt8z6rT4",
        "colab_type": "code",
        "colab": {}
      },
      "source": [
        "#= assigns\n",
        "#== gives Boolean value"
      ],
      "execution_count": 12,
      "outputs": []
    },
    {
      "cell_type": "code",
      "metadata": {
        "id": "QonGmS0g6rZT",
        "colab_type": "code",
        "colab": {
          "base_uri": "https://localhost:8080/",
          "height": 35
        },
        "outputId": "382a9dd6-7d5b-4121-b736-bbd91f89bf65"
      },
      "source": [
        "#by default base 10\n",
        "int ('10',2)"
      ],
      "execution_count": 13,
      "outputs": [
        {
          "output_type": "execute_result",
          "data": {
            "text/plain": [
              "2"
            ]
          },
          "metadata": {
            "tags": []
          },
          "execution_count": 13
        }
      ]
    },
    {
      "cell_type": "code",
      "metadata": {
        "id": "R7oetmHv6riV",
        "colab_type": "code",
        "colab": {
          "base_uri": "https://localhost:8080/",
          "height": 35
        },
        "outputId": "20982e85-0104-4723-f6f6-f11f97fbb5b9"
      },
      "source": [
        "int('111',3)"
      ],
      "execution_count": 14,
      "outputs": [
        {
          "output_type": "execute_result",
          "data": {
            "text/plain": [
              "13"
            ]
          },
          "metadata": {
            "tags": []
          },
          "execution_count": 14
        }
      ]
    },
    {
      "cell_type": "code",
      "metadata": {
        "id": "HaPtq7hB_Ecv",
        "colab_type": "code",
        "colab": {}
      },
      "source": [
        "#typecasting - changing data type"
      ],
      "execution_count": 16,
      "outputs": []
    },
    {
      "cell_type": "code",
      "metadata": {
        "id": "ETAInUyb_Eld",
        "colab_type": "code",
        "colab": {
          "base_uri": "https://localhost:8080/",
          "height": 35
        },
        "outputId": "d275d33c-f977-4086-c0ca-4a992de8598c"
      },
      "source": [
        "float(int('101',3))"
      ],
      "execution_count": 17,
      "outputs": [
        {
          "output_type": "execute_result",
          "data": {
            "text/plain": [
              "10.0"
            ]
          },
          "metadata": {
            "tags": []
          },
          "execution_count": 17
        }
      ]
    },
    {
      "cell_type": "code",
      "metadata": {
        "id": "qDr_xC-L_Epb",
        "colab_type": "code",
        "colab": {}
      },
      "source": [
        "#bases after 10 follow A,B,C"
      ],
      "execution_count": 18,
      "outputs": []
    },
    {
      "cell_type": "code",
      "metadata": {
        "id": "MLQg78Tl_ZnK",
        "colab_type": "code",
        "colab": {
          "base_uri": "https://localhost:8080/",
          "height": 35
        },
        "outputId": "4f5e358d-c1a1-49fa-879c-ddccd92d4982"
      },
      "source": [
        "int('A',11)"
      ],
      "execution_count": 19,
      "outputs": [
        {
          "output_type": "execute_result",
          "data": {
            "text/plain": [
              "10"
            ]
          },
          "metadata": {
            "tags": []
          },
          "execution_count": 19
        }
      ]
    },
    {
      "cell_type": "code",
      "metadata": {
        "id": "VjLDpdeJ_Zxy",
        "colab_type": "code",
        "colab": {}
      },
      "source": [
        "f=float(int('111',3))"
      ],
      "execution_count": 20,
      "outputs": []
    },
    {
      "cell_type": "code",
      "metadata": {
        "id": "SiaLSELg_Z3H",
        "colab_type": "code",
        "colab": {
          "base_uri": "https://localhost:8080/",
          "height": 35
        },
        "outputId": "e1a348fd-21cd-490a-ace7-1321509dfea1"
      },
      "source": [
        "type (f)"
      ],
      "execution_count": 21,
      "outputs": [
        {
          "output_type": "execute_result",
          "data": {
            "text/plain": [
              "float"
            ]
          },
          "metadata": {
            "tags": []
          },
          "execution_count": 21
        }
      ]
    },
    {
      "cell_type": "code",
      "metadata": {
        "id": "L3YVQDZj_Z7F",
        "colab_type": "code",
        "colab": {
          "base_uri": "https://localhost:8080/",
          "height": 132
        },
        "outputId": "e458bd0d-824a-453e-abcc-dfb821d95354"
      },
      "source": [
        "#End of line\n",
        "a ='vvhvjhjdcdhcsdjshhsdv\n",
        "    hssshhvyvhcv'"
      ],
      "execution_count": 22,
      "outputs": [
        {
          "output_type": "error",
          "ename": "SyntaxError",
          "evalue": "ignored",
          "traceback": [
            "\u001b[0;36m  File \u001b[0;32m\"<ipython-input-22-938e68eca5f9>\"\u001b[0;36m, line \u001b[0;32m1\u001b[0m\n\u001b[0;31m    a ='vvhvjhjdcdhcsdjshhsdv\u001b[0m\n\u001b[0m                             ^\u001b[0m\n\u001b[0;31mSyntaxError\u001b[0m\u001b[0;31m:\u001b[0m EOL while scanning string literal\n"
          ]
        }
      ]
    },
    {
      "cell_type": "code",
      "metadata": {
        "id": "M9mhYF9-_Z_K",
        "colab_type": "code",
        "colab": {
          "base_uri": "https://localhost:8080/",
          "height": 168
        },
        "outputId": "31fea2b5-1f50-40c5-ddd3-887b7a89ea5f"
      },
      "source": [
        "#helps to find error\n",
        "help(traceback)"
      ],
      "execution_count": 23,
      "outputs": [
        {
          "output_type": "error",
          "ename": "NameError",
          "evalue": "ignored",
          "traceback": [
            "\u001b[0;31m---------------------------------------------------------------------------\u001b[0m",
            "\u001b[0;31mNameError\u001b[0m                                 Traceback (most recent call last)",
            "\u001b[0;32m<ipython-input-23-bb2133854ada>\u001b[0m in \u001b[0;36m<module>\u001b[0;34m()\u001b[0m\n\u001b[0;32m----> 1\u001b[0;31m \u001b[0mhelp\u001b[0m\u001b[0;34m(\u001b[0m\u001b[0mtraceback\u001b[0m\u001b[0;34m)\u001b[0m\u001b[0;34m\u001b[0m\u001b[0;34m\u001b[0m\u001b[0m\n\u001b[0m",
            "\u001b[0;31mNameError\u001b[0m: name 'traceback' is not defined"
          ]
        }
      ]
    },
    {
      "cell_type": "code",
      "metadata": {
        "id": "-B9wYDhfDXMP",
        "colab_type": "code",
        "colab": {
          "base_uri": "https://localhost:8080/",
          "height": 1000
        },
        "outputId": "df3d51d1-d3bd-4b00-959d-28085e86f694"
      },
      "source": [
        "#def of traceback\n",
        "help('traceback')"
      ],
      "execution_count": 24,
      "outputs": [
        {
          "output_type": "stream",
          "text": [
            "Help on module traceback:\n",
            "\n",
            "NAME\n",
            "    traceback - Extract, format and print information about Python stack traces.\n",
            "\n",
            "MODULE REFERENCE\n",
            "    https://docs.python.org/3.6/library/traceback\n",
            "    \n",
            "    The following documentation is automatically generated from the Python\n",
            "    source files.  It may be incomplete, incorrect or include features that\n",
            "    are considered implementation detail and may vary between Python\n",
            "    implementations.  When in doubt, consult the module reference at the\n",
            "    location listed above.\n",
            "\n",
            "CLASSES\n",
            "    builtins.list(builtins.object)\n",
            "        StackSummary\n",
            "    builtins.object\n",
            "        FrameSummary\n",
            "        TracebackException\n",
            "    \n",
            "    class FrameSummary(builtins.object)\n",
            "     |  A single frame from a traceback.\n",
            "     |  \n",
            "     |  - :attr:`filename` The filename for the frame.\n",
            "     |  - :attr:`lineno` The line within filename for the frame that was\n",
            "     |    active when the frame was captured.\n",
            "     |  - :attr:`name` The name of the function or method that was executing\n",
            "     |    when the frame was captured.\n",
            "     |  - :attr:`line` The text from the linecache module for the\n",
            "     |    of code that was running when the frame was captured.\n",
            "     |  - :attr:`locals` Either None if locals were not supplied, or a dict\n",
            "     |    mapping the name to the repr() of the variable.\n",
            "     |  \n",
            "     |  Methods defined here:\n",
            "     |  \n",
            "     |  __eq__(self, other)\n",
            "     |      Return self==value.\n",
            "     |  \n",
            "     |  __getitem__(self, pos)\n",
            "     |  \n",
            "     |  __init__(self, filename, lineno, name, *, lookup_line=True, locals=None, line=None)\n",
            "     |      Construct a FrameSummary.\n",
            "     |      \n",
            "     |      :param lookup_line: If True, `linecache` is consulted for the source\n",
            "     |          code line. Otherwise, the line will be looked up when first needed.\n",
            "     |      :param locals: If supplied the frame locals, which will be captured as\n",
            "     |          object representations.\n",
            "     |      :param line: If provided, use this instead of looking up the line in\n",
            "     |          the linecache.\n",
            "     |  \n",
            "     |  __iter__(self)\n",
            "     |  \n",
            "     |  __repr__(self)\n",
            "     |      Return repr(self).\n",
            "     |  \n",
            "     |  ----------------------------------------------------------------------\n",
            "     |  Data descriptors defined here:\n",
            "     |  \n",
            "     |  filename\n",
            "     |  \n",
            "     |  line\n",
            "     |  \n",
            "     |  lineno\n",
            "     |  \n",
            "     |  locals\n",
            "     |  \n",
            "     |  name\n",
            "     |  \n",
            "     |  ----------------------------------------------------------------------\n",
            "     |  Data and other attributes defined here:\n",
            "     |  \n",
            "     |  __hash__ = None\n",
            "    \n",
            "    class StackSummary(builtins.list)\n",
            "     |  A stack of frames.\n",
            "     |  \n",
            "     |  Method resolution order:\n",
            "     |      StackSummary\n",
            "     |      builtins.list\n",
            "     |      builtins.object\n",
            "     |  \n",
            "     |  Methods defined here:\n",
            "     |  \n",
            "     |  format(self)\n",
            "     |      Format the stack ready for printing.\n",
            "     |      \n",
            "     |      Returns a list of strings ready for printing.  Each string in the\n",
            "     |      resulting list corresponds to a single frame from the stack.\n",
            "     |      Each string ends in a newline; the strings may contain internal\n",
            "     |      newlines as well, for those items with source text lines.\n",
            "     |      \n",
            "     |      For long sequences of the same frame and line, the first few\n",
            "     |      repetitions are shown, followed by a summary line stating the exact\n",
            "     |      number of further repetitions.\n",
            "     |  \n",
            "     |  ----------------------------------------------------------------------\n",
            "     |  Class methods defined here:\n",
            "     |  \n",
            "     |  extract(frame_gen, *, limit=None, lookup_lines=True, capture_locals=False) from builtins.type\n",
            "     |      Create a StackSummary from a traceback or stack object.\n",
            "     |      \n",
            "     |      :param frame_gen: A generator that yields (frame, lineno) tuples to\n",
            "     |          include in the stack.\n",
            "     |      :param limit: None to include all frames or the number of frames to\n",
            "     |          include.\n",
            "     |      :param lookup_lines: If True, lookup lines for each frame immediately,\n",
            "     |          otherwise lookup is deferred until the frame is rendered.\n",
            "     |      :param capture_locals: If True, the local variables from each frame will\n",
            "     |          be captured as object representations into the FrameSummary.\n",
            "     |  \n",
            "     |  from_list(a_list) from builtins.type\n",
            "     |      Create a StackSummary object from a supplied list of\n",
            "     |      FrameSummary objects or old-style list of tuples.\n",
            "     |  \n",
            "     |  ----------------------------------------------------------------------\n",
            "     |  Data descriptors defined here:\n",
            "     |  \n",
            "     |  __dict__\n",
            "     |      dictionary for instance variables (if defined)\n",
            "     |  \n",
            "     |  __weakref__\n",
            "     |      list of weak references to the object (if defined)\n",
            "     |  \n",
            "     |  ----------------------------------------------------------------------\n",
            "     |  Methods inherited from builtins.list:\n",
            "     |  \n",
            "     |  __add__(self, value, /)\n",
            "     |      Return self+value.\n",
            "     |  \n",
            "     |  __contains__(self, key, /)\n",
            "     |      Return key in self.\n",
            "     |  \n",
            "     |  __delitem__(self, key, /)\n",
            "     |      Delete self[key].\n",
            "     |  \n",
            "     |  __eq__(self, value, /)\n",
            "     |      Return self==value.\n",
            "     |  \n",
            "     |  __ge__(self, value, /)\n",
            "     |      Return self>=value.\n",
            "     |  \n",
            "     |  __getattribute__(self, name, /)\n",
            "     |      Return getattr(self, name).\n",
            "     |  \n",
            "     |  __getitem__(...)\n",
            "     |      x.__getitem__(y) <==> x[y]\n",
            "     |  \n",
            "     |  __gt__(self, value, /)\n",
            "     |      Return self>value.\n",
            "     |  \n",
            "     |  __iadd__(self, value, /)\n",
            "     |      Implement self+=value.\n",
            "     |  \n",
            "     |  __imul__(self, value, /)\n",
            "     |      Implement self*=value.\n",
            "     |  \n",
            "     |  __init__(self, /, *args, **kwargs)\n",
            "     |      Initialize self.  See help(type(self)) for accurate signature.\n",
            "     |  \n",
            "     |  __iter__(self, /)\n",
            "     |      Implement iter(self).\n",
            "     |  \n",
            "     |  __le__(self, value, /)\n",
            "     |      Return self<=value.\n",
            "     |  \n",
            "     |  __len__(self, /)\n",
            "     |      Return len(self).\n",
            "     |  \n",
            "     |  __lt__(self, value, /)\n",
            "     |      Return self<value.\n",
            "     |  \n",
            "     |  __mul__(self, value, /)\n",
            "     |      Return self*value.\n",
            "     |  \n",
            "     |  __ne__(self, value, /)\n",
            "     |      Return self!=value.\n",
            "     |  \n",
            "     |  __new__(*args, **kwargs) from builtins.type\n",
            "     |      Create and return a new object.  See help(type) for accurate signature.\n",
            "     |  \n",
            "     |  __repr__(self, /)\n",
            "     |      Return repr(self).\n",
            "     |  \n",
            "     |  __reversed__(...)\n",
            "     |      L.__reversed__() -- return a reverse iterator over the list\n",
            "     |  \n",
            "     |  __rmul__(self, value, /)\n",
            "     |      Return value*self.\n",
            "     |  \n",
            "     |  __setitem__(self, key, value, /)\n",
            "     |      Set self[key] to value.\n",
            "     |  \n",
            "     |  __sizeof__(...)\n",
            "     |      L.__sizeof__() -- size of L in memory, in bytes\n",
            "     |  \n",
            "     |  append(...)\n",
            "     |      L.append(object) -> None -- append object to end\n",
            "     |  \n",
            "     |  clear(...)\n",
            "     |      L.clear() -> None -- remove all items from L\n",
            "     |  \n",
            "     |  copy(...)\n",
            "     |      L.copy() -> list -- a shallow copy of L\n",
            "     |  \n",
            "     |  count(...)\n",
            "     |      L.count(value) -> integer -- return number of occurrences of value\n",
            "     |  \n",
            "     |  extend(...)\n",
            "     |      L.extend(iterable) -> None -- extend list by appending elements from the iterable\n",
            "     |  \n",
            "     |  index(...)\n",
            "     |      L.index(value, [start, [stop]]) -> integer -- return first index of value.\n",
            "     |      Raises ValueError if the value is not present.\n",
            "     |  \n",
            "     |  insert(...)\n",
            "     |      L.insert(index, object) -- insert object before index\n",
            "     |  \n",
            "     |  pop(...)\n",
            "     |      L.pop([index]) -> item -- remove and return item at index (default last).\n",
            "     |      Raises IndexError if list is empty or index is out of range.\n",
            "     |  \n",
            "     |  remove(...)\n",
            "     |      L.remove(value) -> None -- remove first occurrence of value.\n",
            "     |      Raises ValueError if the value is not present.\n",
            "     |  \n",
            "     |  reverse(...)\n",
            "     |      L.reverse() -- reverse *IN PLACE*\n",
            "     |  \n",
            "     |  sort(...)\n",
            "     |      L.sort(key=None, reverse=False) -> None -- stable sort *IN PLACE*\n",
            "     |  \n",
            "     |  ----------------------------------------------------------------------\n",
            "     |  Data and other attributes inherited from builtins.list:\n",
            "     |  \n",
            "     |  __hash__ = None\n",
            "    \n",
            "    class TracebackException(builtins.object)\n",
            "     |  An exception ready for rendering.\n",
            "     |  \n",
            "     |  The traceback module captures enough attributes from the original exception\n",
            "     |  to this intermediary form to ensure that no references are held, while\n",
            "     |  still being able to fully print or format it.\n",
            "     |  \n",
            "     |  Use `from_exception` to create TracebackException instances from exception\n",
            "     |  objects, or the constructor to create TracebackException instances from\n",
            "     |  individual components.\n",
            "     |  \n",
            "     |  - :attr:`__cause__` A TracebackException of the original *__cause__*.\n",
            "     |  - :attr:`__context__` A TracebackException of the original *__context__*.\n",
            "     |  - :attr:`__suppress_context__` The *__suppress_context__* value from the\n",
            "     |    original exception.\n",
            "     |  - :attr:`stack` A `StackSummary` representing the traceback.\n",
            "     |  - :attr:`exc_type` The class of the original traceback.\n",
            "     |  - :attr:`filename` For syntax errors - the filename where the error\n",
            "     |    occurred.\n",
            "     |  - :attr:`lineno` For syntax errors - the linenumber where the error\n",
            "     |    occurred.\n",
            "     |  - :attr:`text` For syntax errors - the text where the error\n",
            "     |    occurred.\n",
            "     |  - :attr:`offset` For syntax errors - the offset into the text where the\n",
            "     |    error occurred.\n",
            "     |  - :attr:`msg` For syntax errors - the compiler error message.\n",
            "     |  \n",
            "     |  Methods defined here:\n",
            "     |  \n",
            "     |  __eq__(self, other)\n",
            "     |      Return self==value.\n",
            "     |  \n",
            "     |  __init__(self, exc_type, exc_value, exc_traceback, *, limit=None, lookup_lines=True, capture_locals=False, _seen=None)\n",
            "     |      Initialize self.  See help(type(self)) for accurate signature.\n",
            "     |  \n",
            "     |  __str__(self)\n",
            "     |      Return str(self).\n",
            "     |  \n",
            "     |  format(self, *, chain=True)\n",
            "     |      Format the exception.\n",
            "     |      \n",
            "     |      If chain is not *True*, *__cause__* and *__context__* will not be formatted.\n",
            "     |      \n",
            "     |      The return value is a generator of strings, each ending in a newline and\n",
            "     |      some containing internal newlines. `print_exception` is a wrapper around\n",
            "     |      this method which just prints the lines to a file.\n",
            "     |      \n",
            "     |      The message indicating which exception occurred is always the last\n",
            "     |      string in the output.\n",
            "     |  \n",
            "     |  format_exception_only(self)\n",
            "     |      Format the exception part of the traceback.\n",
            "     |      \n",
            "     |      The return value is a generator of strings, each ending in a newline.\n",
            "     |      \n",
            "     |      Normally, the generator emits a single string; however, for\n",
            "     |      SyntaxError exceptions, it emites several lines that (when\n",
            "     |      printed) display detailed information about where the syntax\n",
            "     |      error occurred.\n",
            "     |      \n",
            "     |      The message indicating which exception occurred is always the last\n",
            "     |      string in the output.\n",
            "     |  \n",
            "     |  ----------------------------------------------------------------------\n",
            "     |  Class methods defined here:\n",
            "     |  \n",
            "     |  from_exception(exc, *args, **kwargs) from builtins.type\n",
            "     |      Create a TracebackException from an exception.\n",
            "     |  \n",
            "     |  ----------------------------------------------------------------------\n",
            "     |  Data descriptors defined here:\n",
            "     |  \n",
            "     |  __dict__\n",
            "     |      dictionary for instance variables (if defined)\n",
            "     |  \n",
            "     |  __weakref__\n",
            "     |      list of weak references to the object (if defined)\n",
            "     |  \n",
            "     |  ----------------------------------------------------------------------\n",
            "     |  Data and other attributes defined here:\n",
            "     |  \n",
            "     |  __hash__ = None\n",
            "\n",
            "FUNCTIONS\n",
            "    clear_frames(tb)\n",
            "        Clear all references to local variables in the frames of a traceback.\n",
            "    \n",
            "    extract_stack(f=None, limit=None)\n",
            "        Extract the raw traceback from the current stack frame.\n",
            "        \n",
            "        The return value has the same format as for extract_tb().  The\n",
            "        optional 'f' and 'limit' arguments have the same meaning as for\n",
            "        print_stack().  Each item in the list is a quadruple (filename,\n",
            "        line number, function name, text), and the entries are in order\n",
            "        from oldest to newest stack frame.\n",
            "    \n",
            "    extract_tb(tb, limit=None)\n",
            "        Return a StackSummary object representing a list of\n",
            "        pre-processed entries from traceback.\n",
            "        \n",
            "        This is useful for alternate formatting of stack traces.  If\n",
            "        'limit' is omitted or None, all entries are extracted.  A\n",
            "        pre-processed stack trace entry is a FrameSummary object\n",
            "        containing attributes filename, lineno, name, and line\n",
            "        representing the information that is usually printed for a stack\n",
            "        trace.  The line is a string with leading and trailing\n",
            "        whitespace stripped; if the source is not available it is None.\n",
            "    \n",
            "    format_exc(limit=None, chain=True)\n",
            "        Like print_exc() but return a string.\n",
            "    \n",
            "    format_exception(etype, value, tb, limit=None, chain=True)\n",
            "        Format a stack trace and the exception information.\n",
            "        \n",
            "        The arguments have the same meaning as the corresponding arguments\n",
            "        to print_exception().  The return value is a list of strings, each\n",
            "        ending in a newline and some containing internal newlines.  When\n",
            "        these lines are concatenated and printed, exactly the same text is\n",
            "        printed as does print_exception().\n",
            "    \n",
            "    format_exception_only(etype, value)\n",
            "        Format the exception part of a traceback.\n",
            "        \n",
            "        The arguments are the exception type and value such as given by\n",
            "        sys.last_type and sys.last_value. The return value is a list of\n",
            "        strings, each ending in a newline.\n",
            "        \n",
            "        Normally, the list contains a single string; however, for\n",
            "        SyntaxError exceptions, it contains several lines that (when\n",
            "        printed) display detailed information about where the syntax\n",
            "        error occurred.\n",
            "        \n",
            "        The message indicating which exception occurred is always the last\n",
            "        string in the list.\n",
            "    \n",
            "    format_list(extracted_list)\n",
            "        Format a list of tuples or FrameSummary objects for printing.\n",
            "        \n",
            "        Given a list of tuples or FrameSummary objects as returned by\n",
            "        extract_tb() or extract_stack(), return a list of strings ready\n",
            "        for printing.\n",
            "        \n",
            "        Each string in the resulting list corresponds to the item with the\n",
            "        same index in the argument list.  Each string ends in a newline;\n",
            "        the strings may contain internal newlines as well, for those items\n",
            "        whose source text line is not None.\n",
            "    \n",
            "    format_stack(f=None, limit=None)\n",
            "        Shorthand for 'format_list(extract_stack(f, limit))'.\n",
            "    \n",
            "    format_tb(tb, limit=None)\n",
            "        A shorthand for 'format_list(extract_tb(tb, limit))'.\n",
            "    \n",
            "    print_exc(limit=None, file=None, chain=True)\n",
            "        Shorthand for 'print_exception(*sys.exc_info(), limit, file)'.\n",
            "    \n",
            "    print_exception(etype, value, tb, limit=None, file=None, chain=True)\n",
            "        Print exception up to 'limit' stack trace entries from 'tb' to 'file'.\n",
            "        \n",
            "        This differs from print_tb() in the following ways: (1) if\n",
            "        traceback is not None, it prints a header \"Traceback (most recent\n",
            "        call last):\"; (2) it prints the exception type and value after the\n",
            "        stack trace; (3) if type is SyntaxError and value has the\n",
            "        appropriate format, it prints the line where the syntax error\n",
            "        occurred with a caret on the next line indicating the approximate\n",
            "        position of the error.\n",
            "    \n",
            "    print_last(limit=None, file=None, chain=True)\n",
            "        This is a shorthand for 'print_exception(sys.last_type,\n",
            "        sys.last_value, sys.last_traceback, limit, file)'.\n",
            "    \n",
            "    print_stack(f=None, limit=None, file=None)\n",
            "        Print a stack trace from its invocation point.\n",
            "        \n",
            "        The optional 'f' argument can be used to specify an alternate\n",
            "        stack frame at which to start. The optional 'limit' and 'file'\n",
            "        arguments have the same meaning as for print_exception().\n",
            "    \n",
            "    print_tb(tb, limit=None, file=None)\n",
            "        Print up to 'limit' stack trace entries from the traceback 'tb'.\n",
            "        \n",
            "        If 'limit' is omitted or None, all entries are printed.  If 'file'\n",
            "        is omitted or None, the output goes to sys.stderr; otherwise\n",
            "        'file' should be an open file or file-like object with a write()\n",
            "        method.\n",
            "    \n",
            "    walk_stack(f)\n",
            "        Walk a stack yielding the frame and line number for each frame.\n",
            "        \n",
            "        This will follow f.f_back from the given frame. If no frame is given, the\n",
            "        current stack is used. Usually used with StackSummary.extract.\n",
            "    \n",
            "    walk_tb(tb)\n",
            "        Walk a traceback yielding the frame and line number for each frame.\n",
            "        \n",
            "        This will follow tb.tb_next (and thus is in the opposite order to\n",
            "        walk_stack). Usually used with StackSummary.extract.\n",
            "\n",
            "DATA\n",
            "    __all__ = ['extract_stack', 'extract_tb', 'format_exception', 'format_...\n",
            "\n",
            "FILE\n",
            "    /usr/lib/python3.6/traceback.py\n",
            "\n",
            "\n"
          ],
          "name": "stdout"
        }
      ]
    },
    {
      "cell_type": "code",
      "metadata": {
        "id": "RQL7txmdDXSW",
        "colab_type": "code",
        "colab": {
          "base_uri": "https://localhost:8080/",
          "height": 35
        },
        "outputId": "4ec2d942-c71c-4715-cdea-bebb100d22df"
      },
      "source": [
        "#order of assignments\n",
        "x,y = 6,7\n",
        "x"
      ],
      "execution_count": 25,
      "outputs": [
        {
          "output_type": "execute_result",
          "data": {
            "text/plain": [
              "6"
            ]
          },
          "metadata": {
            "tags": []
          },
          "execution_count": 25
        }
      ]
    },
    {
      "cell_type": "code",
      "metadata": {
        "id": "I1_zwNvCDXZ4",
        "colab_type": "code",
        "colab": {
          "base_uri": "https://localhost:8080/",
          "height": 35
        },
        "outputId": "bb8b7a13-27c9-4ee1-a47c-620a811893e5"
      },
      "source": [
        "y"
      ],
      "execution_count": 26,
      "outputs": [
        {
          "output_type": "execute_result",
          "data": {
            "text/plain": [
              "7"
            ]
          },
          "metadata": {
            "tags": []
          },
          "execution_count": 26
        }
      ]
    },
    {
      "cell_type": "code",
      "metadata": {
        "id": "Lnder2YcDXc_",
        "colab_type": "code",
        "colab": {
          "base_uri": "https://localhost:8080/",
          "height": 35
        },
        "outputId": "7dcfc91a-6fd6-4834-d835-cc355b20146f"
      },
      "source": [
        "a=6\n",
        "a_=3 #for reserve words\n",
        "__a__=-5 #to define a class\n",
        "_a=9 #variable intended for internal use (private variables)\n",
        "__a=91 #\n",
        "print(a,_a,__a)"
      ],
      "execution_count": 27,
      "outputs": [
        {
          "output_type": "stream",
          "text": [
            "6 9 91\n"
          ],
          "name": "stdout"
        }
      ]
    },
    {
      "cell_type": "code",
      "metadata": {
        "id": "mWu3romhDXYE",
        "colab_type": "code",
        "colab": {}
      },
      "source": [
        "#pep 8\n",
        "#name mangling"
      ],
      "execution_count": null,
      "outputs": []
    },
    {
      "cell_type": "code",
      "metadata": {
        "id": "nHx4Y34wDXVr",
        "colab_type": "code",
        "colab": {}
      },
      "source": [
        "#public variable vs private variable\n",
        "\n",
        "class human:\n",
        "  \"\"\" Members of a class \"\"\"\n",
        "  #attribute - variables \n",
        "  #method/behavior - function\n",
        "  # can work on either of them\n",
        "  "
      ],
      "execution_count": null,
      "outputs": []
    },
    {
      "cell_type": "code",
      "metadata": {
        "id": "egt_K895K175",
        "colab_type": "code",
        "colab": {
          "base_uri": "https://localhost:8080/",
          "height": 221
        },
        "outputId": "99cccc02-7edc-44de-a164-9aecc3ba9dc0"
      },
      "source": [
        "class Student: \n",
        "    def __init__(self, name): \n",
        "        self.__name = name \n",
        "  \n",
        "    def displayName(self): \n",
        "        print(self.__name) \n",
        "        \n",
        "#class vs object  \n",
        "s1 = Student(\"Santhosh\") \n",
        "s1.displayName() \n",
        "  \n",
        "# Raises an error \n",
        "print(s1.__name) "
      ],
      "execution_count": 30,
      "outputs": [
        {
          "output_type": "stream",
          "text": [
            "Santhosh\n"
          ],
          "name": "stdout"
        },
        {
          "output_type": "error",
          "ename": "AttributeError",
          "evalue": "ignored",
          "traceback": [
            "\u001b[0;31m---------------------------------------------------------------------------\u001b[0m",
            "\u001b[0;31mAttributeError\u001b[0m                            Traceback (most recent call last)",
            "\u001b[0;32m<ipython-input-30-bc4d1baeede1>\u001b[0m in \u001b[0;36m<module>\u001b[0;34m()\u001b[0m\n\u001b[1;32m     10\u001b[0m \u001b[0;34m\u001b[0m\u001b[0m\n\u001b[1;32m     11\u001b[0m \u001b[0;31m# Raises an error\u001b[0m\u001b[0;34m\u001b[0m\u001b[0;34m\u001b[0m\u001b[0;34m\u001b[0m\u001b[0m\n\u001b[0;32m---> 12\u001b[0;31m \u001b[0mprint\u001b[0m\u001b[0;34m(\u001b[0m\u001b[0ms1\u001b[0m\u001b[0;34m.\u001b[0m\u001b[0m__name\u001b[0m\u001b[0;34m)\u001b[0m\u001b[0;34m\u001b[0m\u001b[0;34m\u001b[0m\u001b[0m\n\u001b[0m",
            "\u001b[0;31mAttributeError\u001b[0m: 'Student' object has no attribute '__name'"
          ]
        }
      ]
    },
    {
      "cell_type": "code",
      "metadata": {
        "id": "UJhRmDTMK2KY",
        "colab_type": "code",
        "colab": {
          "base_uri": "https://localhost:8080/",
          "height": 52
        },
        "outputId": "7eb23bf0-b8cf-44cf-ec93-b72f8aae4197"
      },
      "source": [
        "class Student: \n",
        "    def __init__(self, name): \n",
        "        print(name)\n",
        "        self.__name = name \n",
        "  \n",
        "    def displayName(self): \n",
        "        print(self.__name) \n",
        "  \n",
        "s1 = Student(\"Santhosh\") \n",
        "s1.displayName() \n",
        "  \n",
        "# Raises an error \n",
        "#print(s1.name) "
      ],
      "execution_count": 34,
      "outputs": [
        {
          "output_type": "stream",
          "text": [
            "Santhosh\n",
            "Santhosh\n"
          ],
          "name": "stdout"
        }
      ]
    },
    {
      "cell_type": "code",
      "metadata": {
        "id": "shx9q2AkDXQE",
        "colab_type": "code",
        "colab": {
          "base_uri": "https://localhost:8080/",
          "height": 132
        },
        "outputId": "9e19ef08-f8d9-4fcf-f4fe-4d0e202587d4"
      },
      "source": [
        "#class is a reserved word\n",
        "def make_a(a,class):\n",
        "  pass"
      ],
      "execution_count": 28,
      "outputs": [
        {
          "output_type": "error",
          "ename": "SyntaxError",
          "evalue": "ignored",
          "traceback": [
            "\u001b[0;36m  File \u001b[0;32m\"<ipython-input-28-e536ff8a184e>\"\u001b[0;36m, line \u001b[0;32m1\u001b[0m\n\u001b[0;31m    def make_a(a,class):\u001b[0m\n\u001b[0m                     ^\u001b[0m\n\u001b[0;31mSyntaxError\u001b[0m\u001b[0;31m:\u001b[0m invalid syntax\n"
          ]
        }
      ]
    },
    {
      "cell_type": "code",
      "metadata": {
        "id": "ZOcNoX_THgYQ",
        "colab_type": "code",
        "colab": {}
      },
      "source": [
        "def make_a(a,class_):\n",
        "  pass"
      ],
      "execution_count": 29,
      "outputs": []
    },
    {
      "cell_type": "code",
      "metadata": {
        "id": "0rZBSvYQHgdX",
        "colab_type": "code",
        "colab": {}
      },
      "source": [
        "import pandas as pd"
      ],
      "execution_count": 35,
      "outputs": []
    },
    {
      "cell_type": "code",
      "metadata": {
        "id": "WvcgFX8ZHgjy",
        "colab_type": "code",
        "colab": {
          "base_uri": "https://localhost:8080/",
          "height": 31
        },
        "outputId": "f82b7af5-7f33-419a-d370-7e798edea7c0"
      },
      "source": [
        "a=pd.DataFrame()\n",
        "a"
      ],
      "execution_count": 36,
      "outputs": [
        {
          "output_type": "execute_result",
          "data": {
            "text/html": [
              "<div>\n",
              "<style scoped>\n",
              "    .dataframe tbody tr th:only-of-type {\n",
              "        vertical-align: middle;\n",
              "    }\n",
              "\n",
              "    .dataframe tbody tr th {\n",
              "        vertical-align: top;\n",
              "    }\n",
              "\n",
              "    .dataframe thead th {\n",
              "        text-align: right;\n",
              "    }\n",
              "</style>\n",
              "<table border=\"1\" class=\"dataframe\">\n",
              "  <thead>\n",
              "    <tr style=\"text-align: right;\">\n",
              "      <th></th>\n",
              "    </tr>\n",
              "  </thead>\n",
              "  <tbody>\n",
              "  </tbody>\n",
              "</table>\n",
              "</div>"
            ],
            "text/plain": [
              "Empty DataFrame\n",
              "Columns: []\n",
              "Index: []"
            ]
          },
          "metadata": {
            "tags": []
          },
          "execution_count": 36
        }
      ]
    },
    {
      "cell_type": "code",
      "metadata": {
        "id": "NRl7OCsfHgnS",
        "colab_type": "code",
        "colab": {
          "base_uri": "https://localhost:8080/",
          "height": 47
        },
        "outputId": "a8a0912d-860f-4113-cee1-f23871650dcd"
      },
      "source": [
        "lis=['a','b','c']\n",
        "a=pd.DataFrame(columns=lis)\n",
        "a"
      ],
      "execution_count": 40,
      "outputs": [
        {
          "output_type": "execute_result",
          "data": {
            "text/html": [
              "<div>\n",
              "<style scoped>\n",
              "    .dataframe tbody tr th:only-of-type {\n",
              "        vertical-align: middle;\n",
              "    }\n",
              "\n",
              "    .dataframe tbody tr th {\n",
              "        vertical-align: top;\n",
              "    }\n",
              "\n",
              "    .dataframe thead th {\n",
              "        text-align: right;\n",
              "    }\n",
              "</style>\n",
              "<table border=\"1\" class=\"dataframe\">\n",
              "  <thead>\n",
              "    <tr style=\"text-align: right;\">\n",
              "      <th></th>\n",
              "      <th>a</th>\n",
              "      <th>b</th>\n",
              "      <th>c</th>\n",
              "    </tr>\n",
              "  </thead>\n",
              "  <tbody>\n",
              "  </tbody>\n",
              "</table>\n",
              "</div>"
            ],
            "text/plain": [
              "Empty DataFrame\n",
              "Columns: [a, b, c]\n",
              "Index: []"
            ]
          },
          "metadata": {
            "tags": []
          },
          "execution_count": 40
        }
      ]
    },
    {
      "cell_type": "code",
      "metadata": {
        "id": "-TM4Shh4Hgq4",
        "colab_type": "code",
        "colab": {}
      },
      "source": [
        ""
      ],
      "execution_count": null,
      "outputs": []
    },
    {
      "cell_type": "code",
      "metadata": {
        "id": "CBwjeuzPHghn",
        "colab_type": "code",
        "colab": {}
      },
      "source": [
        ""
      ],
      "execution_count": null,
      "outputs": []
    },
    {
      "cell_type": "code",
      "metadata": {
        "id": "3IwH-AEw_Etf",
        "colab_type": "code",
        "colab": {}
      },
      "source": [
        ""
      ],
      "execution_count": 21,
      "outputs": []
    },
    {
      "cell_type": "code",
      "metadata": {
        "id": "23bGluf9_Ezv",
        "colab_type": "code",
        "colab": {}
      },
      "source": [
        ""
      ],
      "execution_count": 21,
      "outputs": []
    }
  ]
}
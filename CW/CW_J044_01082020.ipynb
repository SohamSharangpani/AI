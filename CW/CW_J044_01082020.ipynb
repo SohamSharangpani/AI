{
  "nbformat": 4,
  "nbformat_minor": 0,
  "metadata": {
    "colab": {
      "name": "CW_J044_01082020.ipynb",
      "provenance": [],
      "collapsed_sections": [],
      "authorship_tag": "ABX9TyOLnyyQhOZVLfQC/C0yPn5g",
      "include_colab_link": true
    },
    "kernelspec": {
      "name": "python3",
      "display_name": "Python 3"
    },
    "accelerator": "GPU"
  },
  "cells": [
    {
      "cell_type": "markdown",
      "metadata": {
        "id": "view-in-github",
        "colab_type": "text"
      },
      "source": [
        "<a href=\"https://colab.research.google.com/github/SohamSharangpani/AI/blob/master/CW/CW_J044_01082020.ipynb\" target=\"_parent\"><img src=\"https://colab.research.google.com/assets/colab-badge.svg\" alt=\"Open In Colab\"/></a>"
      ]
    },
    {
      "cell_type": "code",
      "metadata": {
        "id": "6XgQh5FT_cWL",
        "colab_type": "code",
        "colab": {
          "base_uri": "https://localhost:8080/",
          "height": 34
        },
        "outputId": "144bb9f5-dab4-4c6e-9c72-dc1486489e37"
      },
      "source": [
        "a=1+2+3+4\n",
        "a"
      ],
      "execution_count": 1,
      "outputs": [
        {
          "output_type": "execute_result",
          "data": {
            "text/plain": [
              "10"
            ]
          },
          "metadata": {
            "tags": []
          },
          "execution_count": 1
        }
      ]
    },
    {
      "cell_type": "markdown",
      "metadata": {
        "id": "cRh-6XJ3CJMR",
        "colab_type": "text"
      },
      "source": [
        "# Recurion - Function calls itself during execution \n",
        "\n",
        "1+2+3+4\n",
        "\n",
        "1+2=3 sum(1,2)\n",
        "\n",
        "3+3=6 sum(sum(1,2),3)\n",
        "\n",
        "6+4=10 sum(sum(sum(1,2),3),4)"
      ]
    },
    {
      "cell_type": "markdown",
      "metadata": {
        "id": "SNwdNBheDtvF",
        "colab_type": "text"
      },
      "source": [
        "# Memoisation - Memorandum(Latin)\n",
        "Storing intermidate values thrugh various ways\n",
        "\n",
        "\n"
      ]
    },
    {
      "cell_type": "markdown",
      "metadata": {
        "id": "GU9BTMNzFVo1",
        "colab_type": "text"
      },
      "source": [
        "Calculate 7!"
      ]
    },
    {
      "cell_type": "code",
      "metadata": {
        "id": "6VW5pS-_CTrO",
        "colab_type": "code",
        "colab": {
          "base_uri": "https://localhost:8080/",
          "height": 34
        },
        "outputId": "6fcde438-948d-4126-f512-1adef31167cf"
      },
      "source": [
        "7*6*5*4*3*2"
      ],
      "execution_count": 2,
      "outputs": [
        {
          "output_type": "execute_result",
          "data": {
            "text/plain": [
              "5040"
            ]
          },
          "metadata": {
            "tags": []
          },
          "execution_count": 2
        }
      ]
    },
    {
      "cell_type": "code",
      "metadata": {
        "id": "fitSAqwiFedz",
        "colab_type": "code",
        "colab": {}
      },
      "source": [
        "def factorial(n):\n",
        "  if n>0:\n",
        "    if n == 1:\n",
        "       return n\n",
        "    else:\n",
        "      return (n*factorial(n-1))\n",
        "  else:\n",
        "    return(\"Invalid_Input\")"
      ],
      "execution_count": 3,
      "outputs": []
    },
    {
      "cell_type": "code",
      "metadata": {
        "id": "u-2sgdyJHAWO",
        "colab_type": "code",
        "colab": {
          "base_uri": "https://localhost:8080/",
          "height": 34
        },
        "outputId": "98bde606-1230-45b7-b445-79844b0f5876"
      },
      "source": [
        "factorial(7)"
      ],
      "execution_count": 4,
      "outputs": [
        {
          "output_type": "execute_result",
          "data": {
            "text/plain": [
              "5040"
            ]
          },
          "metadata": {
            "tags": []
          },
          "execution_count": 4
        }
      ]
    },
    {
      "cell_type": "code",
      "metadata": {
        "id": "RWraGTjrHKax",
        "colab_type": "code",
        "colab": {
          "base_uri": "https://localhost:8080/",
          "height": 35
        },
        "outputId": "9282b5a1-8434-4e2b-cff9-958e5ff8d0cb"
      },
      "source": [
        "factorial(-1)"
      ],
      "execution_count": 5,
      "outputs": [
        {
          "output_type": "execute_result",
          "data": {
            "application/vnd.google.colaboratory.intrinsic+json": {
              "type": "string"
            },
            "text/plain": [
              "'Invalid_Input'"
            ]
          },
          "metadata": {
            "tags": []
          },
          "execution_count": 5
        }
      ]
    },
    {
      "cell_type": "markdown",
      "metadata": {
        "id": "LoiSJpd2JO-5",
        "colab_type": "text"
      },
      "source": [
        "# Fibonacci - The next number is the addition of previous 2 numbers starting with 0 and 1\n",
        "0, 1, 1, 2, 3, 5, 8, 13, 21, ....\n",
        "\n",
        "base case - sum(0,1)\n",
        "\n",
        "nth number is sum of previous two numbers num(n) - sum(num(n-1),num(n-2))\n",
        "\n"
      ]
    },
    {
      "cell_type": "code",
      "metadata": {
        "id": "zhRGRjumJht8",
        "colab_type": "code",
        "colab": {}
      },
      "source": [
        "def fibonacci(n): \n",
        "    ar = [0,1] \n",
        "    if n>0: \n",
        "      if n<=len(ar): \n",
        "        return ar[n-1] \n",
        "      else: \n",
        "        fibo = fibonacci(n-1)+fibonacci(n-2) \n",
        "        ar.append(fibo) \n",
        "        return fibo \n",
        "    else:\n",
        "        print(\"Invalid_Input\") "
      ],
      "execution_count": 6,
      "outputs": []
    },
    {
      "cell_type": "code",
      "metadata": {
        "id": "pe1kyaTtO5CC",
        "colab_type": "code",
        "colab": {
          "base_uri": "https://localhost:8080/",
          "height": 34
        },
        "outputId": "6e764f26-71ec-4324-b743-3ed4a8672671"
      },
      "source": [
        "fibonacci(9)"
      ],
      "execution_count": 7,
      "outputs": [
        {
          "output_type": "execute_result",
          "data": {
            "text/plain": [
              "21"
            ]
          },
          "metadata": {
            "tags": []
          },
          "execution_count": 7
        }
      ]
    },
    {
      "cell_type": "code",
      "metadata": {
        "id": "htAQnC8BO_Ea",
        "colab_type": "code",
        "colab": {
          "base_uri": "https://localhost:8080/",
          "height": 34
        },
        "outputId": "ccd08f50-c9f8-4181-b57c-a504a31b5e91"
      },
      "source": [
        "fibonacci(-1)"
      ],
      "execution_count": 8,
      "outputs": [
        {
          "output_type": "stream",
          "text": [
            "Invalid_Input\n"
          ],
          "name": "stdout"
        }
      ]
    },
    {
      "cell_type": "code",
      "metadata": {
        "id": "zaRPBboXUBba",
        "colab_type": "code",
        "colab": {}
      },
      "source": [
        "def fib(n):\n",
        "  if n==0 or n==1:\n",
        "    return n\n",
        "  else:\n",
        "    return fib(n-1)+fib(n-2)"
      ],
      "execution_count": 9,
      "outputs": []
    },
    {
      "cell_type": "code",
      "metadata": {
        "id": "jj33F2WvUZnK",
        "colab_type": "code",
        "colab": {
          "base_uri": "https://localhost:8080/",
          "height": 34
        },
        "outputId": "480d11be-1af0-4682-97f6-1aed5e86f38c"
      },
      "source": [
        "fib(8)"
      ],
      "execution_count": 10,
      "outputs": [
        {
          "output_type": "execute_result",
          "data": {
            "text/plain": [
              "21"
            ]
          },
          "metadata": {
            "tags": []
          },
          "execution_count": 10
        }
      ]
    },
    {
      "cell_type": "markdown",
      "metadata": {
        "id": "DYP-P7HPxhAj",
        "colab_type": "text"
      },
      "source": [
        "#Tractable - PTIME (Polynomial Time Solvable)Solution is in Polynomial Time\n",
        "Polynomial - expression where each term is n^k where k can be any whole number\n",
        "Degree of the polynomial highest power of the variable within the expression \n",
        "\n",
        "Polynomial Time - Runtime of the code or solution should be a polynomial of degree k where k is a constant, and since it is time n cannot be negative\n",
        "n: input space or dimension \n",
        "eg O(n^4) - 3*n^4+2*n^2+1\n",
        "n=1 => 1\n",
        "n=2 => 2^4\n",
        "n=3 => 3^4\n",
        "n=4 => 4^4 ...\n",
        "\n",
        "O(n!)\n",
        "n*n-1*n-2*...1 -> Polynomial of Degree n-1 - Non Polynomial Time (NP)\n"
      ]
    },
    {
      "cell_type": "code",
      "metadata": {
        "id": "QU4eieubxkKA",
        "colab_type": "code",
        "colab": {}
      },
      "source": [
        ""
      ],
      "execution_count": 10,
      "outputs": []
    }
  ]
}
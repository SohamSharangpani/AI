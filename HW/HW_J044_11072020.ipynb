{
  "nbformat": 4,
  "nbformat_minor": 0,
  "metadata": {
    "colab": {
      "name": "HW_J044_11072020.ipynb",
      "provenance": [],
      "toc_visible": true,
      "authorship_tag": "ABX9TyPcW6RrtT8UqTTHHJEpuJm3",
      "include_colab_link": true
    },
    "kernelspec": {
      "name": "python3",
      "display_name": "Python 3"
    },
    "accelerator": "GPU"
  },
  "cells": [
    {
      "cell_type": "markdown",
      "metadata": {
        "id": "view-in-github",
        "colab_type": "text"
      },
      "source": [
        "<a href=\"https://colab.research.google.com/github/SohamSharangpani/AI/blob/master/HW/HW_J044_11072020.ipynb\" target=\"_parent\"><img src=\"https://colab.research.google.com/assets/colab-badge.svg\" alt=\"Open In Colab\"/></a>"
      ]
    },
    {
      "cell_type": "code",
      "metadata": {
        "id": "MtOnNB4XtmqX",
        "colab_type": "code",
        "colab": {
          "base_uri": "https://localhost:8080/",
          "height": 72
        },
        "outputId": "fe4819ad-c9b0-4663-fc4e-398d53284f9e"
      },
      "source": [
        "import pandas as pd\n",
        "import numpy as np\n",
        "import matplotlib.pyplot as plt\n",
        "import seaborn as sns"
      ],
      "execution_count": 2,
      "outputs": [
        {
          "output_type": "stream",
          "text": [
            "/usr/local/lib/python3.6/dist-packages/statsmodels/tools/_testing.py:19: FutureWarning: pandas.util.testing is deprecated. Use the functions in the public API at pandas.testing instead.\n",
            "  import pandas.util.testing as tm\n"
          ],
          "name": "stderr"
        }
      ]
    },
    {
      "cell_type": "code",
      "metadata": {
        "id": "OV-IKCWsAA_c",
        "colab_type": "code",
        "colab": {}
      },
      "source": [
        "class DataRead():\n",
        "\n",
        "  def __init__(self,df):\n",
        "    self.data = pd.read_csv(df)\n",
        "\n",
        "  def RowSelect(self,m,n):\n",
        "   print(self.data.iloc[[m, n]])\n",
        "\n",
        "class DataRead2(DataRead):\n",
        "\n",
        "  def CorrelationPlot(self):\n",
        "    temp_data = self.data\n",
        "    correlation = temp_data.corr()\n",
        "    sns.heatmap(correlation)\n",
        "    plt.show()\n",
        "\n",
        "  def RowSelect(self,m,n,o):\n",
        "   print(self.data.iloc[[m, n, o]])"
      ],
      "execution_count": 26,
      "outputs": []
    },
    {
      "cell_type": "markdown",
      "metadata": {
        "id": "r8MpQBCYAFVw",
        "colab_type": "text"
      },
      "source": [
        "# Create a custom class DataRead to read csv file using pandas"
      ]
    },
    {
      "cell_type": "code",
      "metadata": {
        "id": "zpojFlGhAkoq",
        "colab_type": "code",
        "colab": {
          "base_uri": "https://localhost:8080/",
          "height": 194
        },
        "outputId": "b68d1474-427a-4010-c848-2f1ccab52b2e"
      },
      "source": [
        "df = 'ratings.csv'\n",
        "a = DataRead(df)\n",
        "a.data.head()"
      ],
      "execution_count": 13,
      "outputs": [
        {
          "output_type": "execute_result",
          "data": {
            "text/html": [
              "<div>\n",
              "<style scoped>\n",
              "    .dataframe tbody tr th:only-of-type {\n",
              "        vertical-align: middle;\n",
              "    }\n",
              "\n",
              "    .dataframe tbody tr th {\n",
              "        vertical-align: top;\n",
              "    }\n",
              "\n",
              "    .dataframe thead th {\n",
              "        text-align: right;\n",
              "    }\n",
              "</style>\n",
              "<table border=\"1\" class=\"dataframe\">\n",
              "  <thead>\n",
              "    <tr style=\"text-align: right;\">\n",
              "      <th></th>\n",
              "      <th>Unnamed: 0</th>\n",
              "      <th>Class.I</th>\n",
              "      <th>Class.II</th>\n",
              "      <th>Class.III</th>\n",
              "    </tr>\n",
              "  </thead>\n",
              "  <tbody>\n",
              "    <tr>\n",
              "      <th>0</th>\n",
              "      <td>1</td>\n",
              "      <td>1</td>\n",
              "      <td>1</td>\n",
              "      <td>1</td>\n",
              "    </tr>\n",
              "    <tr>\n",
              "      <th>1</th>\n",
              "      <td>2</td>\n",
              "      <td>1</td>\n",
              "      <td>1</td>\n",
              "      <td>2</td>\n",
              "    </tr>\n",
              "    <tr>\n",
              "      <th>2</th>\n",
              "      <td>3</td>\n",
              "      <td>5</td>\n",
              "      <td>1</td>\n",
              "      <td>3</td>\n",
              "    </tr>\n",
              "    <tr>\n",
              "      <th>3</th>\n",
              "      <td>4</td>\n",
              "      <td>5</td>\n",
              "      <td>1</td>\n",
              "      <td>4</td>\n",
              "    </tr>\n",
              "    <tr>\n",
              "      <th>4</th>\n",
              "      <td>5</td>\n",
              "      <td>5</td>\n",
              "      <td>1</td>\n",
              "      <td>5</td>\n",
              "    </tr>\n",
              "  </tbody>\n",
              "</table>\n",
              "</div>"
            ],
            "text/plain": [
              "   Unnamed: 0  Class.I  Class.II  Class.III\n",
              "0           1        1         1          1\n",
              "1           2        1         1          2\n",
              "2           3        5         1          3\n",
              "3           4        5         1          4\n",
              "4           5        5         1          5"
            ]
          },
          "metadata": {
            "tags": []
          },
          "execution_count": 13
        }
      ]
    },
    {
      "cell_type": "markdown",
      "metadata": {
        "id": "eHF3MfQuCUlF",
        "colab_type": "text"
      },
      "source": [
        "# Create a custom function RowSelect within the class to select any 2 rows of the the the dataframe"
      ]
    },
    {
      "cell_type": "code",
      "metadata": {
        "id": "89mDTGawCcdt",
        "colab_type": "code",
        "colab": {
          "base_uri": "https://localhost:8080/",
          "height": 106
        },
        "outputId": "a315b7f2-edc0-48d9-e8af-38a65bd1139d"
      },
      "source": [
        "m = int(input('Enter row to be displayed: '))\n",
        "n = int(input('Enter row to be displayed: '))\n",
        "a.RowSelect(m-1,n-1)"
      ],
      "execution_count": 15,
      "outputs": [
        {
          "output_type": "stream",
          "text": [
            "Enter row to be displayed: 1\n",
            "Enter row to be displayed: 3\n",
            "   Unnamed: 0  Class.I  Class.II  Class.III\n",
            "0           1        1         1          1\n",
            "2           3        5         1          3\n"
          ],
          "name": "stdout"
        }
      ]
    },
    {
      "cell_type": "markdown",
      "metadata": {
        "id": "iYnU1ecwDdaN",
        "colab_type": "text"
      },
      "source": [
        "# Create a sub class of DataRead as  DataRead2  that has function for correlation plots"
      ]
    },
    {
      "cell_type": "code",
      "metadata": {
        "id": "0SFNQUObES9I",
        "colab_type": "code",
        "colab": {
          "base_uri": "https://localhost:8080/",
          "height": 269
        },
        "outputId": "5138f513-4030-4134-ce71-6b8c8bf7633f"
      },
      "source": [
        "b = DataRead2(df)\n",
        "b.CorrelationPlot()"
      ],
      "execution_count": 29,
      "outputs": [
        {
          "output_type": "display_data",
          "data": {
            "image/png": "[encoded data removed]",
            "text/plain": [
              "<Figure size 432x288 with 2 Axes>"
            ]
          },
          "metadata": {
            "tags": [],
            "needs_background": "light"
          }
        }
      ]
    },
    {
      "cell_type": "markdown",
      "metadata": {
        "id": "rwEN0Ut8HTQa",
        "colab_type": "text"
      },
      "source": [
        "# Within DataRead2 also create a function to override the custom function of DataRead RowSelect to select 3 rows"
      ]
    },
    {
      "cell_type": "code",
      "metadata": {
        "id": "4MsyOulVHSUE",
        "colab_type": "code",
        "colab": {
          "base_uri": "https://localhost:8080/",
          "height": 141
        },
        "outputId": "e6a88417-cd3f-416c-ea7b-8e55e703f872"
      },
      "source": [
        "m = int(input('Enter row to be displayed: '))\n",
        "n = int(input('Enter row to be displayed: '))\n",
        "o = int(input('Enter row to be displayed: '))\n",
        "b.RowSelect(m-1,n-1,o-1)"
      ],
      "execution_count": 30,
      "outputs": [
        {
          "output_type": "stream",
          "text": [
            "Enter row to be displayed: 1\n",
            "Enter row to be displayed: 2\n",
            "Enter row to be displayed: 3\n",
            "   Unnamed: 0  Class.I  Class.II  Class.III\n",
            "0           1        1         1          1\n",
            "1           2        1         1          2\n",
            "2           3        5         1          3\n"
          ],
          "name": "stdout"
        }
      ]
    }
  ]
}
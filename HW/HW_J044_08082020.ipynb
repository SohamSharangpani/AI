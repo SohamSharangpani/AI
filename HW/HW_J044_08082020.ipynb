{
  "nbformat": 4,
  "nbformat_minor": 0,
  "metadata": {
    "colab": {
      "name": "HW_J044_08082020.ipynb",
      "provenance": [],
      "collapsed_sections": [],
      "authorship_tag": "ABX9TyNc9KbV39Pqh7fV/O+fZNuC",
      "include_colab_link": true
    },
    "kernelspec": {
      "name": "python3",
      "display_name": "Python 3"
    },
    "accelerator": "GPU"
  },
  "cells": [
    {
      "cell_type": "markdown",
      "metadata": {
        "id": "view-in-github",
        "colab_type": "text"
      },
      "source": [
        "<a href=\"https://colab.research.google.com/github/SohamSharangpani/AI/blob/master/HW/HW_J044_08082020.ipynb\" target=\"_parent\"><img src=\"https://colab.research.google.com/assets/colab-badge.svg\" alt=\"Open In Colab\"/></a>"
      ]
    },
    {
      "cell_type": "markdown",
      "metadata": {
        "id": "CBsY0TCzCmGQ",
        "colab_type": "text"
      },
      "source": [
        "# Knapsack Problem"
      ]
    },
    {
      "cell_type": "markdown",
      "metadata": {
        "id": "U3nPqUPxCsAp",
        "colab_type": "text"
      },
      "source": [
        "Peter has a tree that consists of  nodes. The nodes are numbered from  through . Each node  has an item associated with it. The item associated with node  is specified by a size  and a value .\n",
        "\n",
        "Peter has a knapsack of size . He wants to choose a subset of nodes (probably none or all); all nodes in the subset are connected. In other words, if nodes  and  are in the subset, then all nodes lying on the simple path between  and  should also be presented in the subset. After that, Peter will take the items associated with all nodes in that subset into his knapsack. Of course, the total size of those items must be less than or equal to the size of the knapsack ().\n",
        "\n",
        "He wonders what the largest total value of items he can put into his knapsack is. Your task is calculating this number."
      ]
    },
    {
      "cell_type": "markdown",
      "metadata": {
        "id": "V7wekGGRDrz2",
        "colab_type": "text"
      },
      "source": [
        "## Input\n",
        "The first line contains a single integer,T , denoting the number of test cases. Then T cases follow.\n",
        "Each case consists of several lines.\n",
        "The first line contains two integers, n and m.\n",
        "The second line contains n integers s1,s2,...,sn where si denotes the size of the item associated with node i.\n",
        "The third line contains n integers v1,v2,...,vn where vi denotes the value of the item associated with node i.\n",
        "Then the next n-1 lines each contain a pair of integers u and v (1<=u,v<=n) denoting that there is an edge between  and . It is guaranteed that these edges form a tree."
      ]
    },
    {
      "cell_type": "markdown",
      "metadata": {
        "id": "NqV6pym5Dy5E",
        "colab_type": "text"
      },
      "source": [
        "## Output"
      ]
    },
    {
      "cell_type": "markdown",
      "metadata": {
        "id": "JIx6OBV4D3kq",
        "colab_type": "text"
      },
      "source": [
        "For each test case, print the largest total value of the items in a single line."
      ]
    },
    {
      "cell_type": "code",
      "metadata": {
        "id": "vMRTs_LrAMKX",
        "colab_type": "code",
        "colab": {
          "base_uri": "https://localhost:8080/",
          "height": 133
        },
        "outputId": "5b0b8017-897b-4073-ee13-08fa01f18a5b"
      },
      "source": [
        "def solve(N,M,S,V,E) :\n",
        "\n",
        "    T = tuple(set() for _ in range(N))\n",
        "    for u,v in E :\n",
        "        T[u].add(v)\n",
        "        T[v].add(u)\n",
        "    Total, order, maxValue = sum(V), sorted(range(n), reverse=True, key=(lambda i : V[i]/S[i])), 0\n",
        "        \n",
        "    def getMax(visited, connected, rejected, size, value, rejectedValue, maxValue) :\n",
        "        if value > maxValue :\n",
        "            maxValue = value\n",
        "            \n",
        "        if not connected :\n",
        "            return maxValue\n",
        "        \n",
        "        i = getBest(connected)\n",
        "        if size + S[i] <= M :\n",
        "            maxValue = getMax(visited|{i}, (connected-{i}) | (T[i]-rejected-visited), rejected, size+S[i], value+V[i], rejectedValue, maxValue)\n",
        "            \n",
        "        if Total - (rejectedValue + V[i]) > maxValue :\n",
        "            maxValue = getMax(visited|{i}, connected-{i}, rejected | {i}, size, value, rejectedValue + V[i], maxValue)\n",
        "            \n",
        "        return maxValue\n",
        "\n",
        "    def getBest(connected) :\n",
        "        for i in order :\n",
        "            if i in connected :\n",
        "                return i\n",
        "            \n",
        "    for s in order :\n",
        "        maxValue = getMax(set(),{s},set(),0,0,0,maxValue)\n",
        "\n",
        "    return maxValue\n",
        "\n",
        "T = int(input())\n",
        "for _ in range(T) :\n",
        "    n,m = (int(_) for _ in input().split())\n",
        "    s = tuple(int(_) for _ in input().split())\n",
        "    v = tuple(int(_) for _ in input().split())\n",
        "    e = tuple((int(_)-1 for _ in input().split()) for _ in range(n-1))\n",
        "    print(solve(n,m,s,v,e))"
      ],
      "execution_count": 1,
      "outputs": [
        {
          "output_type": "stream",
          "text": [
            "1\n",
            "3 1\n",
            "1 1 1\n",
            "1 2 3\n",
            "1 2\n",
            "1 3\n",
            "3\n"
          ],
          "name": "stdout"
        }
      ]
    },
    {
      "cell_type": "markdown",
      "metadata": {
        "id": "NigL8d2DElUm",
        "colab_type": "text"
      },
      "source": [
        "Lets give the input as\n",
        "\n",
        "1\n",
        "\n",
        "3 1\n",
        "\n",
        "1 1 1\n",
        "\n",
        "1 2 3\n",
        "\n",
        "1 2\n",
        "\n",
        "1 3\n",
        "\n",
        "The expected output is \n",
        "\n",
        "3\n",
        "\n",
        "So we are inputing 1 as the number of test cases, so the loop will run 1 time,\n",
        "\n",
        "the next line contains the numbers 3 & 1 where in 3 denotes how many items are there and 1 denoting the size of knapsack, so at the most there can only be one item.\n",
        "\n",
        "1,1,1 denotes the size of the item asscociated at node i & 1,2,3 is the value of each of the following items.\n",
        "\n",
        "We can now seperate these numbers so that they form a tree or so we know there is a difference between them(edge) so we input 1,2 and 1,3 so 1 is branching towards 2 and another brach to 3\n",
        "\n",
        "From the inputs got we can cleary see that 3 is the largest value and as the knapsack size is 1, the output should be 3."
      ]
    },
    {
      "cell_type": "markdown",
      "metadata": {
        "id": "CoVGRosIM5ok",
        "colab_type": "text"
      },
      "source": [
        "    T = int(input()) #input 1\n",
        "    for _ in range(T) : #range from 1 to 1\n",
        "    n,m = (int(_) for _ in input().split()) #n = 3, m = 1, so 3 items, 1 knapsize\n",
        "    s = tuple(int(_) for _ in input().split()) #s is  tuple of 1,1,1 indicting the size of each of the 3 objects\n",
        "    v = tuple(int(_) for _ in input().split()) # is the tuple of 1,2,3 indicating the values of the 3 objects\n",
        "    e = tuple((int(_)-1 for _ in input().split()) for _ in range(n-1)) # takes the edge values (1,2),(1,3) \n",
        "    print(solve(n,m,s,v,e))"
      ]
    },
    {
      "cell_type": "markdown",
      "metadata": {
        "id": "iwZzT2R7Q-38",
        "colab_type": "text"
      },
      "source": [
        "    def solve(N,M,S,V,E) : # takes the values of n,m,s,v,e as defined above\n",
        "    # N = 3\n",
        "    # M = 1\n",
        "    # S = (1,1,1)\n",
        "    # V = (1,2,3)\n",
        "    # E = ((1,2),(1,3))\n",
        "\n",
        "    T = tuple(set() for _ in range(N)) #in range 1 to 3\n",
        "    for u,v in E :\n",
        "        T[u].add(v)\n",
        "        T[v].add(u)\n",
        "        #  therefore T = ({1, 2}, {0}, {0})\n",
        "    Total, order, maxValue = sum(V), sorted(range(n), reverse=True, key=(lambda i : V[i]/S[i])), 0\n",
        "    # Total is sum of all values in V i.e. 1+2+3 = 6\n",
        "    # order is the sorted range of value of an object / size of that object, therefore the order = [2, 1, 0]\n",
        "    # lets set the maxvalue at 0, so maxValue = 0\n",
        "\n",
        "\n",
        "            \n",
        "\n"
      ]
    },
    {
      "cell_type": "markdown",
      "metadata": {
        "id": "StfiDcn2fU2E",
        "colab_type": "text"
      },
      "source": [
        "    for s in order : \n",
        "        maxValue = getMax(set(),{s},set(),0,0,0,maxValue) #passing the arguments in getMax\n",
        "        \n",
        "    return maxValue\n",
        "        \n",
        "    def getMax(visited, connected, rejected, size, value, rejectedValue, maxValue) :\n",
        "\n",
        "    #visited = empty set\n",
        "    #connected = {s}, s = 2,1,0 from the order \n",
        "    #rejected = empty set\n",
        "    #size = 0\n",
        "    #value = 0\n",
        "    #rejectedValue = 0\n",
        "    #maxValue = 0 \n",
        "\n",
        "        if value > maxValue :\n",
        "            maxValue = value\n",
        "            \n",
        "        if not connected :\n",
        "            return maxValue\n",
        "        \n",
        "        i = getBest(connected)\n",
        "        # i = 2\n",
        "\n",
        "        if size + S[i] <= M : # 0 + 2 > M doesnt run further\n",
        "            maxValue = getMax(visited|{i}, (connected-{i}) | (T[i]-rejected-visited), rejected, size+S[i], value+V[i], rejectedValue, maxValue)\n",
        "            \n",
        "        if Total - (rejectedValue + V[i]) > maxValue : # 6 - (0+3) = 3 is > 0\n",
        "            maxValue = getMax(visited|{i}, connected-{i}, rejected | {i}, size, value, rejectedValue + V[i], maxValue)\n",
        "               \n",
        "          #visited = empty set or 2\n",
        "          #connected = 1 \n",
        "          #rejected = empty set or 2\n",
        "          #size = 0\n",
        "          #value = 0\n",
        "          #rejectedValue = 3\n",
        "          #maxValue = 0\n",
        "            \n",
        "        return maxValue\n",
        "\n",
        "    def getBest(connected) :\n",
        "        for i in order :\n",
        "            if i in connected :\n",
        "                return i"
      ]
    },
    {
      "cell_type": "markdown",
      "metadata": {
        "id": "w9IN5SzLtSrq",
        "colab_type": "text"
      },
      "source": [
        "The last loop runs and returns us 3"
      ]
    }
  ]
}